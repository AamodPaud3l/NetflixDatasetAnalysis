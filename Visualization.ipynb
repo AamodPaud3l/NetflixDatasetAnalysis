{
 "cells": [
  {
   "cell_type": "markdown",
   "id": "69e16b1b",
   "metadata": {},
   "source": [
    "# Data Visualization"
   ]
  },
  {
   "cell_type": "markdown",
   "id": "ba4aa040",
   "metadata": {},
   "source": [
    "For practice, we take a look at Netflix dataset to get answers to few questions."
   ]
  },
  {
   "cell_type": "markdown",
   "id": "c1964510",
   "metadata": {},
   "source": [
    "### Import libraries"
   ]
  },
  {
   "cell_type": "code",
   "execution_count": 2,
   "id": "e9e7a125",
   "metadata": {},
   "outputs": [],
   "source": [
    "import os\n",
    "import numpy as np\n",
    "import pandas as pd\n",
    "import seaborn as sns\n",
    "import matplotlib.pyplot as plt"
   ]
  },
  {
   "cell_type": "markdown",
   "id": "f6733def",
   "metadata": {},
   "source": [
    "### File retrieval"
   ]
  },
  {
   "cell_type": "code",
   "execution_count": 2,
   "id": "6c9b5699",
   "metadata": {},
   "outputs": [],
   "source": [
    "cwd = os.getcwd()"
   ]
  },
  {
   "cell_type": "code",
   "execution_count": 3,
   "id": "1278e99c",
   "metadata": {},
   "outputs": [],
   "source": [
    "file = os.path.join(cwd, 'data', 'netflix_titles.csv')"
   ]
  },
  {
   "cell_type": "code",
   "execution_count": 4,
   "id": "0d514b07",
   "metadata": {},
   "outputs": [
    {
     "data": {
      "text/html": [
       "<div>\n",
       "<style scoped>\n",
       "    .dataframe tbody tr th:only-of-type {\n",
       "        vertical-align: middle;\n",
       "    }\n",
       "\n",
       "    .dataframe tbody tr th {\n",
       "        vertical-align: top;\n",
       "    }\n",
       "\n",
       "    .dataframe thead th {\n",
       "        text-align: right;\n",
       "    }\n",
       "</style>\n",
       "<table border=\"1\" class=\"dataframe\">\n",
       "  <thead>\n",
       "    <tr style=\"text-align: right;\">\n",
       "      <th></th>\n",
       "      <th>show_id</th>\n",
       "      <th>type</th>\n",
       "      <th>title</th>\n",
       "      <th>director</th>\n",
       "      <th>cast</th>\n",
       "      <th>country</th>\n",
       "      <th>date_added</th>\n",
       "      <th>release_year</th>\n",
       "      <th>rating</th>\n",
       "      <th>duration</th>\n",
       "      <th>listed_in</th>\n",
       "      <th>description</th>\n",
       "    </tr>\n",
       "  </thead>\n",
       "  <tbody>\n",
       "    <tr>\n",
       "      <th>0</th>\n",
       "      <td>s1</td>\n",
       "      <td>TV Show</td>\n",
       "      <td>3%</td>\n",
       "      <td>NaN</td>\n",
       "      <td>João Miguel, Bianca Comparato, Michel Gomes, R...</td>\n",
       "      <td>Brazil</td>\n",
       "      <td>August 14, 2020</td>\n",
       "      <td>2020</td>\n",
       "      <td>TV-MA</td>\n",
       "      <td>4 Seasons</td>\n",
       "      <td>International TV Shows, TV Dramas, TV Sci-Fi &amp;...</td>\n",
       "      <td>In a future where the elite inhabit an island ...</td>\n",
       "    </tr>\n",
       "    <tr>\n",
       "      <th>1</th>\n",
       "      <td>s2</td>\n",
       "      <td>Movie</td>\n",
       "      <td>7:19</td>\n",
       "      <td>Jorge Michel Grau</td>\n",
       "      <td>Demián Bichir, Héctor Bonilla, Oscar Serrano, ...</td>\n",
       "      <td>Mexico</td>\n",
       "      <td>December 23, 2016</td>\n",
       "      <td>2016</td>\n",
       "      <td>TV-MA</td>\n",
       "      <td>93 min</td>\n",
       "      <td>Dramas, International Movies</td>\n",
       "      <td>After a devastating earthquake hits Mexico Cit...</td>\n",
       "    </tr>\n",
       "    <tr>\n",
       "      <th>2</th>\n",
       "      <td>s3</td>\n",
       "      <td>Movie</td>\n",
       "      <td>23:59</td>\n",
       "      <td>Gilbert Chan</td>\n",
       "      <td>Tedd Chan, Stella Chung, Henley Hii, Lawrence ...</td>\n",
       "      <td>Singapore</td>\n",
       "      <td>December 20, 2018</td>\n",
       "      <td>2011</td>\n",
       "      <td>R</td>\n",
       "      <td>78 min</td>\n",
       "      <td>Horror Movies, International Movies</td>\n",
       "      <td>When an army recruit is found dead, his fellow...</td>\n",
       "    </tr>\n",
       "    <tr>\n",
       "      <th>3</th>\n",
       "      <td>s4</td>\n",
       "      <td>Movie</td>\n",
       "      <td>9</td>\n",
       "      <td>Shane Acker</td>\n",
       "      <td>Elijah Wood, John C. Reilly, Jennifer Connelly...</td>\n",
       "      <td>United States</td>\n",
       "      <td>November 16, 2017</td>\n",
       "      <td>2009</td>\n",
       "      <td>PG-13</td>\n",
       "      <td>80 min</td>\n",
       "      <td>Action &amp; Adventure, Independent Movies, Sci-Fi...</td>\n",
       "      <td>In a postapocalyptic world, rag-doll robots hi...</td>\n",
       "    </tr>\n",
       "    <tr>\n",
       "      <th>4</th>\n",
       "      <td>s5</td>\n",
       "      <td>Movie</td>\n",
       "      <td>21</td>\n",
       "      <td>Robert Luketic</td>\n",
       "      <td>Jim Sturgess, Kevin Spacey, Kate Bosworth, Aar...</td>\n",
       "      <td>United States</td>\n",
       "      <td>January 1, 2020</td>\n",
       "      <td>2008</td>\n",
       "      <td>PG-13</td>\n",
       "      <td>123 min</td>\n",
       "      <td>Dramas</td>\n",
       "      <td>A brilliant group of students become card-coun...</td>\n",
       "    </tr>\n",
       "  </tbody>\n",
       "</table>\n",
       "</div>"
      ],
      "text/plain": [
       "  show_id     type  title           director  \\\n",
       "0      s1  TV Show     3%                NaN   \n",
       "1      s2    Movie   7:19  Jorge Michel Grau   \n",
       "2      s3    Movie  23:59       Gilbert Chan   \n",
       "3      s4    Movie      9        Shane Acker   \n",
       "4      s5    Movie     21     Robert Luketic   \n",
       "\n",
       "                                                cast        country  \\\n",
       "0  João Miguel, Bianca Comparato, Michel Gomes, R...         Brazil   \n",
       "1  Demián Bichir, Héctor Bonilla, Oscar Serrano, ...         Mexico   \n",
       "2  Tedd Chan, Stella Chung, Henley Hii, Lawrence ...      Singapore   \n",
       "3  Elijah Wood, John C. Reilly, Jennifer Connelly...  United States   \n",
       "4  Jim Sturgess, Kevin Spacey, Kate Bosworth, Aar...  United States   \n",
       "\n",
       "          date_added  release_year rating   duration  \\\n",
       "0    August 14, 2020          2020  TV-MA  4 Seasons   \n",
       "1  December 23, 2016          2016  TV-MA     93 min   \n",
       "2  December 20, 2018          2011      R     78 min   \n",
       "3  November 16, 2017          2009  PG-13     80 min   \n",
       "4    January 1, 2020          2008  PG-13    123 min   \n",
       "\n",
       "                                           listed_in  \\\n",
       "0  International TV Shows, TV Dramas, TV Sci-Fi &...   \n",
       "1                       Dramas, International Movies   \n",
       "2                Horror Movies, International Movies   \n",
       "3  Action & Adventure, Independent Movies, Sci-Fi...   \n",
       "4                                             Dramas   \n",
       "\n",
       "                                         description  \n",
       "0  In a future where the elite inhabit an island ...  \n",
       "1  After a devastating earthquake hits Mexico Cit...  \n",
       "2  When an army recruit is found dead, his fellow...  \n",
       "3  In a postapocalyptic world, rag-doll robots hi...  \n",
       "4  A brilliant group of students become card-coun...  "
      ]
     },
     "execution_count": 4,
     "metadata": {},
     "output_type": "execute_result"
    }
   ],
   "source": [
    "netflix_all = pd.read_csv(file)\n",
    "netflix_all.head()"
   ]
  },
  {
   "cell_type": "markdown",
   "id": "4e842ea5",
   "metadata": {},
   "source": [
    "We can see the type of data we're dealing with"
   ]
  },
  {
   "cell_type": "markdown",
   "id": "8426dec5",
   "metadata": {},
   "source": [
    "### Checking for null values"
   ]
  },
  {
   "cell_type": "code",
   "execution_count": 5,
   "id": "9d5cf37f",
   "metadata": {},
   "outputs": [
    {
     "data": {
      "text/plain": [
       "show_id            0\n",
       "type               0\n",
       "title              0\n",
       "director        2389\n",
       "cast             718\n",
       "country          507\n",
       "date_added        10\n",
       "release_year       0\n",
       "rating             7\n",
       "duration           0\n",
       "listed_in          0\n",
       "description        0\n",
       "dtype: int64"
      ]
     },
     "execution_count": 5,
     "metadata": {},
     "output_type": "execute_result"
    }
   ],
   "source": [
    "netflix_all.isnull().sum()"
   ]
  },
  {
   "cell_type": "markdown",
   "id": "2320faf7",
   "metadata": {},
   "source": [
    "Specifically in the director column, we have lots of missing values."
   ]
  },
  {
   "cell_type": "code",
   "execution_count": 6,
   "id": "99bbc534",
   "metadata": {},
   "outputs": [],
   "source": [
    "netflix_all['country'] = netflix_all['country'].fillna(netflix_all['country'].mode()[0])"
   ]
  },
  {
   "cell_type": "markdown",
   "id": "0d5e4abb",
   "metadata": {},
   "source": [
    "Fill missing values with mode for country."
   ]
  },
  {
   "cell_type": "code",
   "execution_count": 7,
   "id": "e4388840",
   "metadata": {},
   "outputs": [
    {
     "name": "stdout",
     "output_type": "stream",
     "text": [
      "<class 'pandas.core.frame.DataFrame'>\n",
      "RangeIndex: 7787 entries, 0 to 7786\n",
      "Data columns (total 12 columns):\n",
      " #   Column        Non-Null Count  Dtype \n",
      "---  ------        --------------  ----- \n",
      " 0   show_id       7787 non-null   object\n",
      " 1   type          7787 non-null   object\n",
      " 2   title         7787 non-null   object\n",
      " 3   director      5398 non-null   object\n",
      " 4   cast          7069 non-null   object\n",
      " 5   country       7787 non-null   object\n",
      " 6   date_added    7777 non-null   object\n",
      " 7   release_year  7787 non-null   int64 \n",
      " 8   rating        7780 non-null   object\n",
      " 9   duration      7787 non-null   object\n",
      " 10  listed_in     7787 non-null   object\n",
      " 11  description   7787 non-null   object\n",
      "dtypes: int64(1), object(11)\n",
      "memory usage: 730.2+ KB\n"
     ]
    }
   ],
   "source": [
    "netflix_all.info()"
   ]
  },
  {
   "cell_type": "code",
   "execution_count": 8,
   "id": "ac4d089a",
   "metadata": {},
   "outputs": [],
   "source": [
    "netflix_shows = netflix_all[netflix_all['type']=='TV Show']"
   ]
  },
  {
   "cell_type": "code",
   "execution_count": 9,
   "id": "d2a5803b",
   "metadata": {},
   "outputs": [],
   "source": [
    "netflix_movies = netflix_all[netflix_all['type'] == 'Movie']"
   ]
  },
  {
   "cell_type": "markdown",
   "id": "1daede45",
   "metadata": {},
   "source": [
    "### Analysis of movies and shows"
   ]
  },
  {
   "cell_type": "code",
   "execution_count": 10,
   "id": "c0788f75",
   "metadata": {},
   "outputs": [
    {
     "data": {
      "text/plain": [
       "<AxesSubplot:xlabel='type', ylabel='count'>"
      ]
     },
     "execution_count": 10,
     "metadata": {},
     "output_type": "execute_result"
    },
    {
     "data": {
      "image/png": "[encoded data removed]",
      "text/plain": [
       "<Figure size 432x288 with 1 Axes>"
      ]
     },
     "metadata": {
      "needs_background": "light"
     },
     "output_type": "display_data"
    }
   ],
   "source": [
    "sns.countplot(x='type', data=netflix_all)"
   ]
  },
  {
   "cell_type": "markdown",
   "id": "40749a4b",
   "metadata": {},
   "source": [
    "It is clear that there are lots of Movies than TV Shows."
   ]
  },
  {
   "cell_type": "code",
   "execution_count": 11,
   "id": "0e415d6e",
   "metadata": {},
   "outputs": [
    {
     "data": {
      "text/plain": [
       "<AxesSubplot:xlabel='first_country', ylabel='count'>"
      ]
     },
     "execution_count": 11,
     "metadata": {},
     "output_type": "execute_result"
    },
    {
     "data": {
      "image/png": "[encoded data removed]",
      "text/plain": [
       "<Figure size 432x288 with 1 Axes>"
      ]
     },
     "metadata": {
      "needs_background": "light"
     },
     "output_type": "display_data"
    }
   ],
   "source": [
    "netflix_all['first_country'] = netflix_all['country'].apply(lambda x: x.split(\",\")[0])\n",
    "netflix_all['first_country'].replace('United States', 'USA', inplace=True)\n",
    "netflix_all['first_country'].replace('United Kingdom', 'UK', inplace=True)\n",
    "netflix_all['first_country'].replace('South Korea', 'S. Korea', inplace=True)\n",
    "\n",
    "sns.countplot(x='first_country', data=netflix_all, order=netflix_all.first_country.value_counts().iloc[:7].index)"
   ]
  },
  {
   "cell_type": "markdown",
   "id": "ebc3c287",
   "metadata": {},
   "source": [
    "So, USA has the maximum contents with India and UK coming 2nd and 3rd respectively."
   ]
  },
  {
   "cell_type": "code",
   "execution_count": 12,
   "id": "4e3842ef",
   "metadata": {},
   "outputs": [],
   "source": [
    "new_df = pd.crosstab(netflix_all['first_country'], netflix_all['type'])\n",
    "new_df['total'] = new_df['Movie'] + new_df['TV Show']\n",
    "new_df.sort_values(by='total', ascending=False, inplace=True)\n",
    "new_df.drop(['total'], axis=1, inplace = True)"
   ]
  },
  {
   "cell_type": "code",
   "execution_count": 13,
   "id": "44667714",
   "metadata": {},
   "outputs": [
    {
     "data": {
      "text/plain": [
       "<AxesSubplot:ylabel='first_country'>"
      ]
     },
     "execution_count": 13,
     "metadata": {},
     "output_type": "execute_result"
    },
    {
     "data": {
      "image/png": "[encoded data removed]",
      "text/plain": [
       "<Figure size 432x288 with 1 Axes>"
      ]
     },
     "metadata": {
      "needs_background": "light"
     },
     "output_type": "display_data"
    }
   ],
   "source": [
    "plot_data = new_df.head(7)\n",
    "plot_data.plot(kind='barh', stacked=True)"
   ]
  },
  {
   "cell_type": "markdown",
   "id": "1b91ade0",
   "metadata": {},
   "source": [
    "Here are the top 7 countries with maximum Movies and TV Shows combined."
   ]
  },
  {
   "cell_type": "code",
   "execution_count": 14,
   "id": "15983b40",
   "metadata": {},
   "outputs": [
    {
     "data": {
      "text/html": [
       "<div>\n",
       "<style scoped>\n",
       "    .dataframe tbody tr th:only-of-type {\n",
       "        vertical-align: middle;\n",
       "    }\n",
       "\n",
       "    .dataframe tbody tr th {\n",
       "        vertical-align: top;\n",
       "    }\n",
       "\n",
       "    .dataframe thead th {\n",
       "        text-align: right;\n",
       "    }\n",
       "</style>\n",
       "<table border=\"1\" class=\"dataframe\">\n",
       "  <thead>\n",
       "    <tr style=\"text-align: right;\">\n",
       "      <th>type</th>\n",
       "      <th>Movie</th>\n",
       "      <th>TV Show</th>\n",
       "    </tr>\n",
       "    <tr>\n",
       "      <th>first_country</th>\n",
       "      <th></th>\n",
       "      <th></th>\n",
       "    </tr>\n",
       "  </thead>\n",
       "  <tbody>\n",
       "    <tr>\n",
       "      <th>USA</th>\n",
       "      <td>68.731563</td>\n",
       "      <td>31.268437</td>\n",
       "    </tr>\n",
       "    <tr>\n",
       "      <th>India</th>\n",
       "      <td>92.364017</td>\n",
       "      <td>7.635983</td>\n",
       "    </tr>\n",
       "    <tr>\n",
       "      <th>UK</th>\n",
       "      <td>59.098787</td>\n",
       "      <td>40.901213</td>\n",
       "    </tr>\n",
       "    <tr>\n",
       "      <th>Canada</th>\n",
       "      <td>67.567568</td>\n",
       "      <td>32.432432</td>\n",
       "    </tr>\n",
       "    <tr>\n",
       "      <th>Japan</th>\n",
       "      <td>31.645570</td>\n",
       "      <td>68.354430</td>\n",
       "    </tr>\n",
       "    <tr>\n",
       "      <th>France</th>\n",
       "      <td>69.897959</td>\n",
       "      <td>30.102041</td>\n",
       "    </tr>\n",
       "    <tr>\n",
       "      <th>S. Korea</th>\n",
       "      <td>21.649485</td>\n",
       "      <td>78.350515</td>\n",
       "    </tr>\n",
       "  </tbody>\n",
       "</table>\n",
       "</div>"
      ],
      "text/plain": [
       "type               Movie    TV Show\n",
       "first_country                      \n",
       "USA            68.731563  31.268437\n",
       "India          92.364017   7.635983\n",
       "UK             59.098787  40.901213\n",
       "Canada         67.567568  32.432432\n",
       "Japan          31.645570  68.354430\n",
       "France         69.897959  30.102041\n",
       "S. Korea       21.649485  78.350515"
      ]
     },
     "execution_count": 14,
     "metadata": {},
     "output_type": "execute_result"
    }
   ],
   "source": [
    "plot_data_percentage = plot_data.div(plot_data.sum(axis=1), axis=0)*100\n",
    "plot_data_percentage"
   ]
  },
  {
   "cell_type": "code",
   "execution_count": 15,
   "id": "1ec8f2d9",
   "metadata": {},
   "outputs": [
    {
     "data": {
      "text/plain": [
       "Text(0.5, 0, 'Cumulative Percentage')"
      ]
     },
     "execution_count": 15,
     "metadata": {},
     "output_type": "execute_result"
    },
    {
     "data": {
      "image/png": "[encoded data removed]",
      "text/plain": [
       "<Figure size 432x288 with 1 Axes>"
      ]
     },
     "metadata": {
      "needs_background": "light"
     },
     "output_type": "display_data"
    }
   ],
   "source": [
    "plot_data_percentage.plot(kind=\"barh\", stacked=True)\n",
    "plt.legend(bbox_to_anchor=(1,1))\n",
    "plt.title('Percent Stacked Bar Chart')\n",
    "plt.ylabel('Country')\n",
    "plt.xlabel('Cumulative Percentage')"
   ]
  },
  {
   "cell_type": "markdown",
   "id": "2f44c435",
   "metadata": {},
   "source": [
    "So, percentage stacked bar chart gives out a clearer understanding of how top 7 content delivering countries have their content type divided."
   ]
  },
  {
   "cell_type": "markdown",
   "id": "902e6e20",
   "metadata": {},
   "source": [
    "### Now we see a chart that shows the density of shows released based on months wrt each year"
   ]
  },
  {
   "cell_type": "code",
   "execution_count": 16,
   "id": "c1ca823a",
   "metadata": {},
   "outputs": [],
   "source": [
    "netflix_date = netflix_all[['date_added']].dropna()\n",
    "netflix_date['year'] = netflix_date['date_added'].apply(lambda x: x.split(\",\")[-1])\n",
    "netflix_date['month'] = netflix_date['date_added'].apply(lambda x: x.split(' ')[0])"
   ]
  },
  {
   "cell_type": "code",
   "execution_count": 17,
   "id": "29cb93bc",
   "metadata": {},
   "outputs": [
    {
     "data": {
      "text/html": [
       "<div>\n",
       "<style scoped>\n",
       "    .dataframe tbody tr th:only-of-type {\n",
       "        vertical-align: middle;\n",
       "    }\n",
       "\n",
       "    .dataframe tbody tr th {\n",
       "        vertical-align: top;\n",
       "    }\n",
       "\n",
       "    .dataframe thead th {\n",
       "        text-align: right;\n",
       "    }\n",
       "</style>\n",
       "<table border=\"1\" class=\"dataframe\">\n",
       "  <thead>\n",
       "    <tr style=\"text-align: right;\">\n",
       "      <th>year</th>\n",
       "      <th>2008</th>\n",
       "      <th>2009</th>\n",
       "      <th>2010</th>\n",
       "      <th>2011</th>\n",
       "      <th>2012</th>\n",
       "      <th>2013</th>\n",
       "      <th>2014</th>\n",
       "      <th>2015</th>\n",
       "      <th>2016</th>\n",
       "      <th>2017</th>\n",
       "      <th>2018</th>\n",
       "      <th>2019</th>\n",
       "      <th>2020</th>\n",
       "      <th>2021</th>\n",
       "    </tr>\n",
       "    <tr>\n",
       "      <th>month</th>\n",
       "      <th></th>\n",
       "      <th></th>\n",
       "      <th></th>\n",
       "      <th></th>\n",
       "      <th></th>\n",
       "      <th></th>\n",
       "      <th></th>\n",
       "      <th></th>\n",
       "      <th></th>\n",
       "      <th></th>\n",
       "      <th></th>\n",
       "      <th></th>\n",
       "      <th></th>\n",
       "      <th></th>\n",
       "    </tr>\n",
       "  </thead>\n",
       "  <tbody>\n",
       "    <tr>\n",
       "      <th>December</th>\n",
       "      <td>0.0</td>\n",
       "      <td>0.0</td>\n",
       "      <td>0.0</td>\n",
       "      <td>0.0</td>\n",
       "      <td>1.0</td>\n",
       "      <td>2.0</td>\n",
       "      <td>5.0</td>\n",
       "      <td>20.0</td>\n",
       "      <td>95.0</td>\n",
       "      <td>115.0</td>\n",
       "      <td>185.0</td>\n",
       "      <td>219.0</td>\n",
       "      <td>175.0</td>\n",
       "      <td>0.0</td>\n",
       "    </tr>\n",
       "    <tr>\n",
       "      <th>November</th>\n",
       "      <td>0.0</td>\n",
       "      <td>1.0</td>\n",
       "      <td>1.0</td>\n",
       "      <td>0.0</td>\n",
       "      <td>1.0</td>\n",
       "      <td>2.0</td>\n",
       "      <td>5.0</td>\n",
       "      <td>3.0</td>\n",
       "      <td>44.0</td>\n",
       "      <td>85.0</td>\n",
       "      <td>160.0</td>\n",
       "      <td>270.0</td>\n",
       "      <td>158.0</td>\n",
       "      <td>0.0</td>\n",
       "    </tr>\n",
       "    <tr>\n",
       "      <th>October</th>\n",
       "      <td>0.0</td>\n",
       "      <td>0.0</td>\n",
       "      <td>0.0</td>\n",
       "      <td>11.0</td>\n",
       "      <td>0.0</td>\n",
       "      <td>2.0</td>\n",
       "      <td>4.0</td>\n",
       "      <td>15.0</td>\n",
       "      <td>52.0</td>\n",
       "      <td>130.0</td>\n",
       "      <td>191.0</td>\n",
       "      <td>202.0</td>\n",
       "      <td>173.0</td>\n",
       "      <td>0.0</td>\n",
       "    </tr>\n",
       "    <tr>\n",
       "      <th>September</th>\n",
       "      <td>0.0</td>\n",
       "      <td>0.0</td>\n",
       "      <td>0.0</td>\n",
       "      <td>1.0</td>\n",
       "      <td>0.0</td>\n",
       "      <td>2.0</td>\n",
       "      <td>1.0</td>\n",
       "      <td>6.0</td>\n",
       "      <td>46.0</td>\n",
       "      <td>119.0</td>\n",
       "      <td>126.0</td>\n",
       "      <td>135.0</td>\n",
       "      <td>178.0</td>\n",
       "      <td>0.0</td>\n",
       "    </tr>\n",
       "    <tr>\n",
       "      <th>August</th>\n",
       "      <td>0.0</td>\n",
       "      <td>0.0</td>\n",
       "      <td>0.0</td>\n",
       "      <td>0.0</td>\n",
       "      <td>0.0</td>\n",
       "      <td>1.0</td>\n",
       "      <td>1.0</td>\n",
       "      <td>2.0</td>\n",
       "      <td>41.0</td>\n",
       "      <td>110.0</td>\n",
       "      <td>168.0</td>\n",
       "      <td>145.0</td>\n",
       "      <td>144.0</td>\n",
       "      <td>0.0</td>\n",
       "    </tr>\n",
       "    <tr>\n",
       "      <th>July</th>\n",
       "      <td>0.0</td>\n",
       "      <td>0.0</td>\n",
       "      <td>0.0</td>\n",
       "      <td>0.0</td>\n",
       "      <td>0.0</td>\n",
       "      <td>0.0</td>\n",
       "      <td>1.0</td>\n",
       "      <td>8.0</td>\n",
       "      <td>29.0</td>\n",
       "      <td>76.0</td>\n",
       "      <td>155.0</td>\n",
       "      <td>167.0</td>\n",
       "      <td>156.0</td>\n",
       "      <td>0.0</td>\n",
       "    </tr>\n",
       "    <tr>\n",
       "      <th>June</th>\n",
       "      <td>0.0</td>\n",
       "      <td>0.0</td>\n",
       "      <td>0.0</td>\n",
       "      <td>0.0</td>\n",
       "      <td>0.0</td>\n",
       "      <td>0.0</td>\n",
       "      <td>1.0</td>\n",
       "      <td>6.0</td>\n",
       "      <td>19.0</td>\n",
       "      <td>93.0</td>\n",
       "      <td>77.0</td>\n",
       "      <td>175.0</td>\n",
       "      <td>167.0</td>\n",
       "      <td>0.0</td>\n",
       "    </tr>\n",
       "    <tr>\n",
       "      <th>May</th>\n",
       "      <td>0.0</td>\n",
       "      <td>1.0</td>\n",
       "      <td>0.0</td>\n",
       "      <td>1.0</td>\n",
       "      <td>0.0</td>\n",
       "      <td>0.0</td>\n",
       "      <td>0.0</td>\n",
       "      <td>6.0</td>\n",
       "      <td>11.0</td>\n",
       "      <td>87.0</td>\n",
       "      <td>99.0</td>\n",
       "      <td>159.0</td>\n",
       "      <td>173.0</td>\n",
       "      <td>0.0</td>\n",
       "    </tr>\n",
       "    <tr>\n",
       "      <th>April</th>\n",
       "      <td>0.0</td>\n",
       "      <td>0.0</td>\n",
       "      <td>0.0</td>\n",
       "      <td>0.0</td>\n",
       "      <td>0.0</td>\n",
       "      <td>0.0</td>\n",
       "      <td>2.0</td>\n",
       "      <td>5.0</td>\n",
       "      <td>21.0</td>\n",
       "      <td>93.0</td>\n",
       "      <td>117.0</td>\n",
       "      <td>170.0</td>\n",
       "      <td>188.0</td>\n",
       "      <td>0.0</td>\n",
       "    </tr>\n",
       "    <tr>\n",
       "      <th>March</th>\n",
       "      <td>0.0</td>\n",
       "      <td>0.0</td>\n",
       "      <td>0.0</td>\n",
       "      <td>0.0</td>\n",
       "      <td>0.0</td>\n",
       "      <td>1.0</td>\n",
       "      <td>0.0</td>\n",
       "      <td>4.0</td>\n",
       "      <td>16.0</td>\n",
       "      <td>138.0</td>\n",
       "      <td>172.0</td>\n",
       "      <td>178.0</td>\n",
       "      <td>152.0</td>\n",
       "      <td>0.0</td>\n",
       "    </tr>\n",
       "    <tr>\n",
       "      <th>February</th>\n",
       "      <td>1.0</td>\n",
       "      <td>0.0</td>\n",
       "      <td>0.0</td>\n",
       "      <td>0.0</td>\n",
       "      <td>1.0</td>\n",
       "      <td>0.0</td>\n",
       "      <td>2.0</td>\n",
       "      <td>3.0</td>\n",
       "      <td>16.0</td>\n",
       "      <td>83.0</td>\n",
       "      <td>87.0</td>\n",
       "      <td>156.0</td>\n",
       "      <td>117.0</td>\n",
       "      <td>0.0</td>\n",
       "    </tr>\n",
       "    <tr>\n",
       "      <th>January</th>\n",
       "      <td>1.0</td>\n",
       "      <td>0.0</td>\n",
       "      <td>0.0</td>\n",
       "      <td>0.0</td>\n",
       "      <td>0.0</td>\n",
       "      <td>0.0</td>\n",
       "      <td>2.0</td>\n",
       "      <td>1.0</td>\n",
       "      <td>42.0</td>\n",
       "      <td>72.0</td>\n",
       "      <td>124.0</td>\n",
       "      <td>160.0</td>\n",
       "      <td>227.0</td>\n",
       "      <td>117.0</td>\n",
       "    </tr>\n",
       "  </tbody>\n",
       "</table>\n",
       "</div>"
      ],
      "text/plain": [
       "year        2008   2009   2010   2011   2012   2013   2014   2015   2016  \\\n",
       "month                                                                      \n",
       "December     0.0    0.0    0.0    0.0    1.0    2.0    5.0   20.0   95.0   \n",
       "November     0.0    1.0    1.0    0.0    1.0    2.0    5.0    3.0   44.0   \n",
       "October      0.0    0.0    0.0   11.0    0.0    2.0    4.0   15.0   52.0   \n",
       "September    0.0    0.0    0.0    1.0    0.0    2.0    1.0    6.0   46.0   \n",
       "August       0.0    0.0    0.0    0.0    0.0    1.0    1.0    2.0   41.0   \n",
       "July         0.0    0.0    0.0    0.0    0.0    0.0    1.0    8.0   29.0   \n",
       "June         0.0    0.0    0.0    0.0    0.0    0.0    1.0    6.0   19.0   \n",
       "May          0.0    1.0    0.0    1.0    0.0    0.0    0.0    6.0   11.0   \n",
       "April        0.0    0.0    0.0    0.0    0.0    0.0    2.0    5.0   21.0   \n",
       "March        0.0    0.0    0.0    0.0    0.0    1.0    0.0    4.0   16.0   \n",
       "February     1.0    0.0    0.0    0.0    1.0    0.0    2.0    3.0   16.0   \n",
       "January      1.0    0.0    0.0    0.0    0.0    0.0    2.0    1.0   42.0   \n",
       "\n",
       "year        2017   2018   2019   2020   2021  \n",
       "month                                         \n",
       "December   115.0  185.0  219.0  175.0    0.0  \n",
       "November    85.0  160.0  270.0  158.0    0.0  \n",
       "October    130.0  191.0  202.0  173.0    0.0  \n",
       "September  119.0  126.0  135.0  178.0    0.0  \n",
       "August     110.0  168.0  145.0  144.0    0.0  \n",
       "July        76.0  155.0  167.0  156.0    0.0  \n",
       "June        93.0   77.0  175.0  167.0    0.0  \n",
       "May         87.0   99.0  159.0  173.0    0.0  \n",
       "April       93.0  117.0  170.0  188.0    0.0  \n",
       "March      138.0  172.0  178.0  152.0    0.0  \n",
       "February    83.0   87.0  156.0  117.0    0.0  \n",
       "January     72.0  124.0  160.0  227.0  117.0  "
      ]
     },
     "execution_count": 17,
     "metadata": {},
     "output_type": "execute_result"
    }
   ],
   "source": [
    "month_order = ['January', 'February', 'March', 'April', 'May', 'June', 'July', 'August', 'September', 'October', 'November', 'December'][::-1]\n",
    "df = netflix_date.groupby('year')['month'].value_counts().unstack().fillna(0)[month_order].T\n",
    "df"
   ]
  },
  {
   "cell_type": "code",
   "execution_count": 18,
   "id": "444c5ae3",
   "metadata": {},
   "outputs": [
    {
     "data": {
      "image/png": "[encoded data removed]",
      "text/plain": [
       "<Figure size 720x504 with 2 Axes>"
      ]
     },
     "metadata": {
      "needs_background": "light"
     },
     "output_type": "display_data"
    }
   ],
   "source": [
    "plt.figure(figsize=(10, 7))\n",
    "plt.pcolor(df, cmap='afmhot_r')\n",
    "plt.xticks(np.arange(0.5, len(df.columns), 1), df.columns)\n",
    "plt.yticks(np.arange(0.5, len(df.index), 1), df.index)\n",
    "cbar = plt.colorbar()\n",
    "cbar.ax.tick_params(labelsize=8) \n",
    "cbar.ax.minorticks_on()\n",
    "plt.show()"
   ]
  },
  {
   "cell_type": "markdown",
   "id": "3eaca8fe",
   "metadata": {},
   "source": [
    "This colorbar shows that movies started to be released on Netflix from 2016 December at a rapid pace. This graph is useful for directors and producers who want to release their movies/TV Shows when there is less competition. On 2020, February, August and November were times where less movies/TV Shows were released."
   ]
  },
  {
   "cell_type": "code",
   "execution_count": 19,
   "id": "f9d6820e",
   "metadata": {},
   "outputs": [
    {
     "data": {
      "text/html": [
       "<div>\n",
       "<style scoped>\n",
       "    .dataframe tbody tr th:only-of-type {\n",
       "        vertical-align: middle;\n",
       "    }\n",
       "\n",
       "    .dataframe tbody tr th {\n",
       "        vertical-align: top;\n",
       "    }\n",
       "\n",
       "    .dataframe thead th {\n",
       "        text-align: right;\n",
       "    }\n",
       "</style>\n",
       "<table border=\"1\" class=\"dataframe\">\n",
       "  <thead>\n",
       "    <tr style=\"text-align: right;\">\n",
       "      <th></th>\n",
       "      <th>year</th>\n",
       "      <th>Count</th>\n",
       "    </tr>\n",
       "  </thead>\n",
       "  <tbody>\n",
       "    <tr>\n",
       "      <th>0</th>\n",
       "      <td>2008</td>\n",
       "      <td>2</td>\n",
       "    </tr>\n",
       "    <tr>\n",
       "      <th>1</th>\n",
       "      <td>2009</td>\n",
       "      <td>2</td>\n",
       "    </tr>\n",
       "    <tr>\n",
       "      <th>2</th>\n",
       "      <td>2010</td>\n",
       "      <td>1</td>\n",
       "    </tr>\n",
       "    <tr>\n",
       "      <th>3</th>\n",
       "      <td>2011</td>\n",
       "      <td>13</td>\n",
       "    </tr>\n",
       "    <tr>\n",
       "      <th>4</th>\n",
       "      <td>2012</td>\n",
       "      <td>3</td>\n",
       "    </tr>\n",
       "    <tr>\n",
       "      <th>5</th>\n",
       "      <td>2013</td>\n",
       "      <td>11</td>\n",
       "    </tr>\n",
       "    <tr>\n",
       "      <th>6</th>\n",
       "      <td>2014</td>\n",
       "      <td>25</td>\n",
       "    </tr>\n",
       "    <tr>\n",
       "      <th>7</th>\n",
       "      <td>2015</td>\n",
       "      <td>88</td>\n",
       "    </tr>\n",
       "    <tr>\n",
       "      <th>8</th>\n",
       "      <td>2016</td>\n",
       "      <td>443</td>\n",
       "    </tr>\n",
       "    <tr>\n",
       "      <th>9</th>\n",
       "      <td>2017</td>\n",
       "      <td>1225</td>\n",
       "    </tr>\n",
       "    <tr>\n",
       "      <th>10</th>\n",
       "      <td>2018</td>\n",
       "      <td>1685</td>\n",
       "    </tr>\n",
       "    <tr>\n",
       "      <th>11</th>\n",
       "      <td>2019</td>\n",
       "      <td>2153</td>\n",
       "    </tr>\n",
       "    <tr>\n",
       "      <th>12</th>\n",
       "      <td>2020</td>\n",
       "      <td>2009</td>\n",
       "    </tr>\n",
       "    <tr>\n",
       "      <th>13</th>\n",
       "      <td>2021</td>\n",
       "      <td>117</td>\n",
       "    </tr>\n",
       "  </tbody>\n",
       "</table>\n",
       "</div>"
      ],
      "text/plain": [
       "     year  Count\n",
       "0    2008      2\n",
       "1    2009      2\n",
       "2    2010      1\n",
       "3    2011     13\n",
       "4    2012      3\n",
       "5    2013     11\n",
       "6    2014     25\n",
       "7    2015     88\n",
       "8    2016    443\n",
       "9    2017   1225\n",
       "10   2018   1685\n",
       "11   2019   2153\n",
       "12   2020   2009\n",
       "13   2021    117"
      ]
     },
     "execution_count": 19,
     "metadata": {},
     "output_type": "execute_result"
    }
   ],
   "source": [
    "df2 = netflix_all.groupby([netflix_date['year']]).size().reset_index(name=\"Count\")\n",
    "df2"
   ]
  },
  {
   "cell_type": "code",
   "execution_count": 20,
   "id": "1452b59f",
   "metadata": {},
   "outputs": [
    {
     "data": {
      "text/plain": [
       "<AxesSubplot:xlabel='year', ylabel='Count'>"
      ]
     },
     "execution_count": 20,
     "metadata": {},
     "output_type": "execute_result"
    },
    {
     "data": {
      "image/png": "[encoded data removed]",
      "text/plain": [
       "<Figure size 720x504 with 1 Axes>"
      ]
     },
     "metadata": {
      "needs_background": "light"
     },
     "output_type": "display_data"
    }
   ],
   "source": [
    "plt.figure(figsize=(10, 7))\n",
    "sns.lineplot(data=df2, x='year', y='Count')"
   ]
  },
  {
   "cell_type": "markdown",
   "id": "fd3d068b",
   "metadata": {},
   "source": [
    "As we can see that movies and TV Shows were added the most during the time from 2017-2020. It peaked during 2019."
   ]
  },
  {
   "cell_type": "markdown",
   "id": "94a9f4f2",
   "metadata": {},
   "source": [
    "### for Movies"
   ]
  },
  {
   "cell_type": "code",
   "execution_count": 21,
   "id": "6331461a",
   "metadata": {},
   "outputs": [
    {
     "data": {
      "image/png": "[encoded data removed]",
      "text/plain": [
       "<Figure size 720x504 with 1 Axes>"
      ]
     },
     "metadata": {
      "needs_background": "light"
     },
     "output_type": "display_data"
    }
   ],
   "source": [
    "plt.figure(figsize=(10,7))\n",
    "ax = sns.countplot(x=\"rating\", data=netflix_movies, order=netflix_movies['rating'].value_counts().index[0:10])"
   ]
  },
  {
   "cell_type": "markdown",
   "id": "69f9d3d2",
   "metadata": {},
   "source": [
    "This countplot shows the spread of ratings around the Movie type."
   ]
  },
  {
   "cell_type": "code",
   "execution_count": 22,
   "id": "458a4023",
   "metadata": {},
   "outputs": [
    {
     "data": {
      "text/plain": [
       "1        93 min\n",
       "2        78 min\n",
       "3        80 min\n",
       "4       123 min\n",
       "6        95 min\n",
       "         ...   \n",
       "7781     88 min\n",
       "7782     99 min\n",
       "7783    111 min\n",
       "7784     44 min\n",
       "7786     90 min\n",
       "Name: duration, Length: 5377, dtype: object"
      ]
     },
     "execution_count": 22,
     "metadata": {},
     "output_type": "execute_result"
    }
   ],
   "source": [
    "netflix_movies['duration']"
   ]
  },
  {
   "cell_type": "code",
   "execution_count": 23,
   "id": "a8da978a",
   "metadata": {},
   "outputs": [
    {
     "name": "stderr",
     "output_type": "stream",
     "text": [
      "<ipython-input-23-c8540ebe48df>:1: SettingWithCopyWarning: \n",
      "A value is trying to be set on a copy of a slice from a DataFrame.\n",
      "Try using .loc[row_indexer,col_indexer] = value instead\n",
      "\n",
      "See the caveats in the documentation: https://pandas.pydata.org/pandas-docs/stable/user_guide/indexing.html#returning-a-view-versus-a-copy\n",
      "  netflix_movies['duration_clean']=netflix_movies['duration'].apply(lambda x: str(x).split(\" \")[0])\n"
     ]
    },
    {
     "data": {
      "text/plain": [
       "1        93\n",
       "2        78\n",
       "3        80\n",
       "4       123\n",
       "6        95\n",
       "       ... \n",
       "7781     88\n",
       "7782     99\n",
       "7783    111\n",
       "7784     44\n",
       "7786     90\n",
       "Name: duration_clean, Length: 5377, dtype: object"
      ]
     },
     "execution_count": 23,
     "metadata": {},
     "output_type": "execute_result"
    }
   ],
   "source": [
    "netflix_movies['duration_clean']=netflix_movies['duration'].apply(lambda x: str(x).split(\" \")[0])\n",
    "netflix_movies['duration_clean']"
   ]
  },
  {
   "cell_type": "code",
   "execution_count": 24,
   "id": "866da950",
   "metadata": {},
   "outputs": [
    {
     "name": "stderr",
     "output_type": "stream",
     "text": [
      "<ipython-input-24-8ddcf0602002>:1: SettingWithCopyWarning: \n",
      "A value is trying to be set on a copy of a slice from a DataFrame.\n",
      "Try using .loc[row_indexer,col_indexer] = value instead\n",
      "\n",
      "See the caveats in the documentation: https://pandas.pydata.org/pandas-docs/stable/user_guide/indexing.html#returning-a-view-versus-a-copy\n",
      "  netflix_movies['duration']=netflix_movies['duration'].str.extract(r\"(^\\d*)\")\n",
      "<ipython-input-24-8ddcf0602002>:2: SettingWithCopyWarning: \n",
      "A value is trying to be set on a copy of a slice from a DataFrame.\n",
      "Try using .loc[row_indexer,col_indexer] = value instead\n",
      "\n",
      "See the caveats in the documentation: https://pandas.pydata.org/pandas-docs/stable/user_guide/indexing.html#returning-a-view-versus-a-copy\n",
      "  netflix_movies['duration']=pd.to_numeric(netflix_movies['duration'])\n"
     ]
    }
   ],
   "source": [
    "netflix_movies['duration']=netflix_movies['duration'].str.extract(r\"(^\\d*)\")\n",
    "netflix_movies['duration']=pd.to_numeric(netflix_movies['duration'])"
   ]
  },
  {
   "cell_type": "code",
   "execution_count": 1,
   "id": "7886420c",
   "metadata": {},
   "outputs": [
    {
     "ename": "NameError",
     "evalue": "name 'sns' is not defined",
     "output_type": "error",
     "traceback": [
      "\u001b[1;31m---------------------------------------------------------------------------\u001b[0m",
      "\u001b[1;31mNameError\u001b[0m                                 Traceback (most recent call last)",
      "\u001b[1;32m<ipython-input-1-d177b7116c1e>\u001b[0m in \u001b[0;36m<module>\u001b[1;34m\u001b[0m\n\u001b[1;32m----> 1\u001b[1;33m \u001b[0msns\u001b[0m\u001b[1;33m.\u001b[0m\u001b[0mkdeplot\u001b[0m\u001b[1;33m(\u001b[0m\u001b[0mdata\u001b[0m\u001b[1;33m=\u001b[0m\u001b[0mnetflix_movies\u001b[0m\u001b[1;33m,\u001b[0m \u001b[0mshade\u001b[0m\u001b[1;33m=\u001b[0m\u001b[1;32mTrue\u001b[0m\u001b[1;33m)\u001b[0m\u001b[1;33m\u001b[0m\u001b[1;33m\u001b[0m\u001b[0m\n\u001b[0m",
      "\u001b[1;31mNameError\u001b[0m: name 'sns' is not defined"
     ]
    }
   ],
   "source": [
    "sns.kdeplot(data=netflix_movies['duration'], shade=True)"
   ]
  },
  {
   "cell_type": "markdown",
   "id": "98022535",
   "metadata": {},
   "source": [
    "This shows that most of the movies last around 90-100 minutes mark."
   ]
  },
  {
   "cell_type": "markdown",
   "id": "2a4d71b0",
   "metadata": {},
   "source": [
    "#### Count by Genres"
   ]
  },
  {
   "cell_type": "code",
   "execution_count": 26,
   "id": "4eb7c99f",
   "metadata": {},
   "outputs": [],
   "source": [
    "from collections import Counter"
   ]
  },
  {
   "cell_type": "code",
   "execution_count": 27,
   "id": "6b9b6d00",
   "metadata": {},
   "outputs": [],
   "source": [
    "genres = list(netflix_movies['listed_in'])\n",
    "gen = []\n",
    "\n",
    "for i in genres:\n",
    "    i = list(i.split(','))\n",
    "    for j in i:\n",
    "        gen.append(j.replace(' ', ''))\n",
    "g = Counter(gen)"
   ]
  },
  {
   "cell_type": "code",
   "execution_count": 28,
   "id": "bab05853",
   "metadata": {},
   "outputs": [
    {
     "data": {
      "text/plain": [
       "Counter({'Dramas': 2106,\n",
       "         'InternationalMovies': 2437,\n",
       "         'HorrorMovies': 312,\n",
       "         'Action&Adventure': 721,\n",
       "         'IndependentMovies': 673,\n",
       "         'Sci-Fi&Fantasy': 218,\n",
       "         'Thrillers': 491,\n",
       "         'Documentaries': 786,\n",
       "         'SportsMovies': 196,\n",
       "         'Comedies': 1471,\n",
       "         'RomanticMovies': 531,\n",
       "         'Movies': 56,\n",
       "         'Music&Musicals': 321,\n",
       "         'LGBTQMovies': 90,\n",
       "         'Faith&Spirituality': 57,\n",
       "         'Children&FamilyMovies': 532,\n",
       "         'ClassicMovies': 103,\n",
       "         'CultMovies': 59,\n",
       "         'Stand-UpComedy': 329,\n",
       "         'AnimeFeatures': 57})"
      ]
     },
     "execution_count": 28,
     "metadata": {},
     "output_type": "execute_result"
    }
   ],
   "source": [
    "g"
   ]
  },
  {
   "cell_type": "code",
   "execution_count": 29,
   "id": "f28f7242",
   "metadata": {},
   "outputs": [
    {
     "data": {
      "image/png": "[encoded data removed]",
      "text/plain": [
       "<Figure size 720x720 with 1 Axes>"
      ]
     },
     "metadata": {
      "needs_background": "light"
     },
     "output_type": "display_data"
    }
   ],
   "source": [
    "fig = plt.figure(figsize = (10, 10))\n",
    "x=list(g.keys())\n",
    "y=list(g.values())\n",
    "plt.stem(x,y, use_line_collection=True)\n",
    "plt.xticks(rotation=90)\n",
    "plt.show()"
   ]
  },
  {
   "cell_type": "markdown",
   "id": "963669c4",
   "metadata": {},
   "source": [
    "This lollipop chart shows that there are lots of movies under genre Dramas, International Movies and Comedies."
   ]
  },
  {
   "cell_type": "markdown",
   "id": "235003b4",
   "metadata": {},
   "source": [
    "### For TV SHOWS"
   ]
  },
  {
   "cell_type": "code",
   "execution_count": 30,
   "id": "e3cd1579",
   "metadata": {},
   "outputs": [
    {
     "name": "stderr",
     "output_type": "stream",
     "text": [
      "<ipython-input-30-5249b734a94e>:3: SettingWithCopyWarning: \n",
      "A value is trying to be set on a copy of a slice from a DataFrame.\n",
      "Try using .loc[row_indexer,col_indexer] = value instead\n",
      "\n",
      "See the caveats in the documentation: https://pandas.pydata.org/pandas-docs/stable/user_guide/indexing.html#returning-a-view-versus-a-copy\n",
      "  durations['no_of_seasons']=durations['duration'].str.extract(r'(^\\d*)')\n",
      "<ipython-input-30-5249b734a94e>:4: SettingWithCopyWarning: \n",
      "A value is trying to be set on a copy of a slice from a DataFrame.\n",
      "Try using .loc[row_indexer,col_indexer] = value instead\n",
      "\n",
      "See the caveats in the documentation: https://pandas.pydata.org/pandas-docs/stable/user_guide/indexing.html#returning-a-view-versus-a-copy\n",
      "  durations['no_of_seasons']=pd.to_numeric(durations['no_of_seasons'])\n"
     ]
    }
   ],
   "source": [
    "features = ['title', 'duration']\n",
    "durations = netflix_shows[features]\n",
    "durations['no_of_seasons']=durations['duration'].str.extract(r'(^\\d*)')\n",
    "durations['no_of_seasons']=pd.to_numeric(durations['no_of_seasons'])"
   ]
  },
  {
   "cell_type": "code",
   "execution_count": 31,
   "id": "a3f8a8dd",
   "metadata": {},
   "outputs": [],
   "source": [
    "t=['title','no_of_seasons']\n",
    "top=durations[t]\n",
    "\n",
    "top=top.sort_values(by='no_of_seasons', ascending=False)"
   ]
  },
  {
   "cell_type": "code",
   "execution_count": 32,
   "id": "5c364267",
   "metadata": {},
   "outputs": [
    {
     "data": {
      "text/plain": [
       "<AxesSubplot:xlabel='title'>"
      ]
     },
     "execution_count": 32,
     "metadata": {},
     "output_type": "execute_result"
    },
    {
     "data": {
      "image/png": "[encoded data removed]",
      "text/plain": [
       "<Figure size 432x288 with 1 Axes>"
      ]
     },
     "metadata": {
      "needs_background": "light"
     },
     "output_type": "display_data"
    }
   ],
   "source": [
    "top20=top[0:20]\n",
    "top20.plot(kind='bar',x='title',y='no_of_seasons')"
   ]
  },
  {
   "cell_type": "markdown",
   "id": "74d90f7d",
   "metadata": {},
   "source": [
    "This shows that on average, series have 9 seasons with maximum number of season being of Grey's Anatomy with 16 seasons."
   ]
  },
  {
   "cell_type": "code",
   "execution_count": 40,
   "id": "75383d53",
   "metadata": {},
   "outputs": [
    {
     "data": {
      "text/plain": [
       "[('InternationalMovies', 2437),\n",
       " ('Dramas', 2106),\n",
       " ('Comedies', 1471),\n",
       " ('Documentaries', 786),\n",
       " ('Action&Adventure', 721),\n",
       " ('IndependentMovies', 673),\n",
       " ('Children&FamilyMovies', 532),\n",
       " ('RomanticMovies', 531),\n",
       " ('Thrillers', 491),\n",
       " ('Stand-UpComedy', 329),\n",
       " ('Music&Musicals', 321),\n",
       " ('HorrorMovies', 312),\n",
       " ('Sci-Fi&Fantasy', 218),\n",
       " ('SportsMovies', 196),\n",
       " ('ClassicMovies', 103),\n",
       " ('LGBTQMovies', 90),\n",
       " ('CultMovies', 59),\n",
       " ('Faith&Spirituality', 57),\n",
       " ('AnimeFeatures', 57),\n",
       " ('Movies', 56)]"
      ]
     },
     "execution_count": 40,
     "metadata": {},
     "output_type": "execute_result"
    }
   ],
   "source": [
    "g.most_common()"
   ]
  },
  {
   "cell_type": "code",
   "execution_count": 46,
   "id": "54d0f232",
   "metadata": {},
   "outputs": [],
   "source": [
    "df = pd.DataFrame(g.most_common(), columns=['Type', 'Count'])"
   ]
  },
  {
   "cell_type": "code",
   "execution_count": 47,
   "id": "493d765d",
   "metadata": {},
   "outputs": [
    {
     "data": {
      "text/html": [
       "<div>\n",
       "<style scoped>\n",
       "    .dataframe tbody tr th:only-of-type {\n",
       "        vertical-align: middle;\n",
       "    }\n",
       "\n",
       "    .dataframe tbody tr th {\n",
       "        vertical-align: top;\n",
       "    }\n",
       "\n",
       "    .dataframe thead th {\n",
       "        text-align: right;\n",
       "    }\n",
       "</style>\n",
       "<table border=\"1\" class=\"dataframe\">\n",
       "  <thead>\n",
       "    <tr style=\"text-align: right;\">\n",
       "      <th></th>\n",
       "      <th>Type</th>\n",
       "      <th>Count</th>\n",
       "    </tr>\n",
       "  </thead>\n",
       "  <tbody>\n",
       "    <tr>\n",
       "      <th>0</th>\n",
       "      <td>InternationalMovies</td>\n",
       "      <td>2437</td>\n",
       "    </tr>\n",
       "    <tr>\n",
       "      <th>1</th>\n",
       "      <td>Dramas</td>\n",
       "      <td>2106</td>\n",
       "    </tr>\n",
       "    <tr>\n",
       "      <th>2</th>\n",
       "      <td>Comedies</td>\n",
       "      <td>1471</td>\n",
       "    </tr>\n",
       "    <tr>\n",
       "      <th>3</th>\n",
       "      <td>Documentaries</td>\n",
       "      <td>786</td>\n",
       "    </tr>\n",
       "    <tr>\n",
       "      <th>4</th>\n",
       "      <td>Action&amp;Adventure</td>\n",
       "      <td>721</td>\n",
       "    </tr>\n",
       "    <tr>\n",
       "      <th>5</th>\n",
       "      <td>IndependentMovies</td>\n",
       "      <td>673</td>\n",
       "    </tr>\n",
       "    <tr>\n",
       "      <th>6</th>\n",
       "      <td>Children&amp;FamilyMovies</td>\n",
       "      <td>532</td>\n",
       "    </tr>\n",
       "    <tr>\n",
       "      <th>7</th>\n",
       "      <td>RomanticMovies</td>\n",
       "      <td>531</td>\n",
       "    </tr>\n",
       "    <tr>\n",
       "      <th>8</th>\n",
       "      <td>Thrillers</td>\n",
       "      <td>491</td>\n",
       "    </tr>\n",
       "    <tr>\n",
       "      <th>9</th>\n",
       "      <td>Stand-UpComedy</td>\n",
       "      <td>329</td>\n",
       "    </tr>\n",
       "    <tr>\n",
       "      <th>10</th>\n",
       "      <td>Music&amp;Musicals</td>\n",
       "      <td>321</td>\n",
       "    </tr>\n",
       "    <tr>\n",
       "      <th>11</th>\n",
       "      <td>HorrorMovies</td>\n",
       "      <td>312</td>\n",
       "    </tr>\n",
       "    <tr>\n",
       "      <th>12</th>\n",
       "      <td>Sci-Fi&amp;Fantasy</td>\n",
       "      <td>218</td>\n",
       "    </tr>\n",
       "    <tr>\n",
       "      <th>13</th>\n",
       "      <td>SportsMovies</td>\n",
       "      <td>196</td>\n",
       "    </tr>\n",
       "    <tr>\n",
       "      <th>14</th>\n",
       "      <td>ClassicMovies</td>\n",
       "      <td>103</td>\n",
       "    </tr>\n",
       "    <tr>\n",
       "      <th>15</th>\n",
       "      <td>LGBTQMovies</td>\n",
       "      <td>90</td>\n",
       "    </tr>\n",
       "    <tr>\n",
       "      <th>16</th>\n",
       "      <td>CultMovies</td>\n",
       "      <td>59</td>\n",
       "    </tr>\n",
       "    <tr>\n",
       "      <th>17</th>\n",
       "      <td>Faith&amp;Spirituality</td>\n",
       "      <td>57</td>\n",
       "    </tr>\n",
       "    <tr>\n",
       "      <th>18</th>\n",
       "      <td>AnimeFeatures</td>\n",
       "      <td>57</td>\n",
       "    </tr>\n",
       "    <tr>\n",
       "      <th>19</th>\n",
       "      <td>Movies</td>\n",
       "      <td>56</td>\n",
       "    </tr>\n",
       "  </tbody>\n",
       "</table>\n",
       "</div>"
      ],
      "text/plain": [
       "                     Type  Count\n",
       "0     InternationalMovies   2437\n",
       "1                  Dramas   2106\n",
       "2                Comedies   1471\n",
       "3           Documentaries    786\n",
       "4        Action&Adventure    721\n",
       "5       IndependentMovies    673\n",
       "6   Children&FamilyMovies    532\n",
       "7          RomanticMovies    531\n",
       "8               Thrillers    491\n",
       "9          Stand-UpComedy    329\n",
       "10         Music&Musicals    321\n",
       "11           HorrorMovies    312\n",
       "12         Sci-Fi&Fantasy    218\n",
       "13           SportsMovies    196\n",
       "14          ClassicMovies    103\n",
       "15            LGBTQMovies     90\n",
       "16             CultMovies     59\n",
       "17     Faith&Spirituality     57\n",
       "18          AnimeFeatures     57\n",
       "19                 Movies     56"
      ]
     },
     "execution_count": 47,
     "metadata": {},
     "output_type": "execute_result"
    }
   ],
   "source": [
    "df"
   ]
  },
  {
   "cell_type": "code",
   "execution_count": 48,
   "id": "7747bf1d",
   "metadata": {},
   "outputs": [],
   "source": [
    "df2 = df[:5].copy()"
   ]
  },
  {
   "cell_type": "code",
   "execution_count": 49,
   "id": "cf252ff0",
   "metadata": {},
   "outputs": [
    {
     "data": {
      "text/html": [
       "<div>\n",
       "<style scoped>\n",
       "    .dataframe tbody tr th:only-of-type {\n",
       "        vertical-align: middle;\n",
       "    }\n",
       "\n",
       "    .dataframe tbody tr th {\n",
       "        vertical-align: top;\n",
       "    }\n",
       "\n",
       "    .dataframe thead th {\n",
       "        text-align: right;\n",
       "    }\n",
       "</style>\n",
       "<table border=\"1\" class=\"dataframe\">\n",
       "  <thead>\n",
       "    <tr style=\"text-align: right;\">\n",
       "      <th></th>\n",
       "      <th>Type</th>\n",
       "      <th>Count</th>\n",
       "    </tr>\n",
       "  </thead>\n",
       "  <tbody>\n",
       "    <tr>\n",
       "      <th>0</th>\n",
       "      <td>InternationalMovies</td>\n",
       "      <td>2437</td>\n",
       "    </tr>\n",
       "    <tr>\n",
       "      <th>1</th>\n",
       "      <td>Dramas</td>\n",
       "      <td>2106</td>\n",
       "    </tr>\n",
       "    <tr>\n",
       "      <th>2</th>\n",
       "      <td>Comedies</td>\n",
       "      <td>1471</td>\n",
       "    </tr>\n",
       "    <tr>\n",
       "      <th>3</th>\n",
       "      <td>Documentaries</td>\n",
       "      <td>786</td>\n",
       "    </tr>\n",
       "    <tr>\n",
       "      <th>4</th>\n",
       "      <td>Action&amp;Adventure</td>\n",
       "      <td>721</td>\n",
       "    </tr>\n",
       "  </tbody>\n",
       "</table>\n",
       "</div>"
      ],
      "text/plain": [
       "                  Type  Count\n",
       "0  InternationalMovies   2437\n",
       "1               Dramas   2106\n",
       "2             Comedies   1471\n",
       "3        Documentaries    786\n",
       "4     Action&Adventure    721"
      ]
     },
     "execution_count": 49,
     "metadata": {},
     "output_type": "execute_result"
    }
   ],
   "source": [
    "df2"
   ]
  },
  {
   "cell_type": "code",
   "execution_count": 50,
   "id": "8048f9e2",
   "metadata": {},
   "outputs": [],
   "source": [
    "new_row = pd.DataFrame(data = {\n",
    "    'Type' : ['others'],\n",
    "    'Count' : [df['Count'][5:].sum()]\n",
    "})"
   ]
  },
  {
   "cell_type": "code",
   "execution_count": 51,
   "id": "cde5af5d",
   "metadata": {},
   "outputs": [],
   "source": [
    "df2 = pd.concat([df2, new_row])"
   ]
  },
  {
   "cell_type": "code",
   "execution_count": 52,
   "id": "fd2c48fe",
   "metadata": {},
   "outputs": [
    {
     "data": {
      "text/html": [
       "<div>\n",
       "<style scoped>\n",
       "    .dataframe tbody tr th:only-of-type {\n",
       "        vertical-align: middle;\n",
       "    }\n",
       "\n",
       "    .dataframe tbody tr th {\n",
       "        vertical-align: top;\n",
       "    }\n",
       "\n",
       "    .dataframe thead th {\n",
       "        text-align: right;\n",
       "    }\n",
       "</style>\n",
       "<table border=\"1\" class=\"dataframe\">\n",
       "  <thead>\n",
       "    <tr style=\"text-align: right;\">\n",
       "      <th></th>\n",
       "      <th>Type</th>\n",
       "      <th>Count</th>\n",
       "    </tr>\n",
       "  </thead>\n",
       "  <tbody>\n",
       "    <tr>\n",
       "      <th>0</th>\n",
       "      <td>InternationalMovies</td>\n",
       "      <td>2437</td>\n",
       "    </tr>\n",
       "    <tr>\n",
       "      <th>1</th>\n",
       "      <td>Dramas</td>\n",
       "      <td>2106</td>\n",
       "    </tr>\n",
       "    <tr>\n",
       "      <th>2</th>\n",
       "      <td>Comedies</td>\n",
       "      <td>1471</td>\n",
       "    </tr>\n",
       "    <tr>\n",
       "      <th>3</th>\n",
       "      <td>Documentaries</td>\n",
       "      <td>786</td>\n",
       "    </tr>\n",
       "    <tr>\n",
       "      <th>4</th>\n",
       "      <td>Action&amp;Adventure</td>\n",
       "      <td>721</td>\n",
       "    </tr>\n",
       "    <tr>\n",
       "      <th>0</th>\n",
       "      <td>others</td>\n",
       "      <td>4025</td>\n",
       "    </tr>\n",
       "  </tbody>\n",
       "</table>\n",
       "</div>"
      ],
      "text/plain": [
       "                  Type  Count\n",
       "0  InternationalMovies   2437\n",
       "1               Dramas   2106\n",
       "2             Comedies   1471\n",
       "3        Documentaries    786\n",
       "4     Action&Adventure    721\n",
       "0               others   4025"
      ]
     },
     "execution_count": 52,
     "metadata": {},
     "output_type": "execute_result"
    }
   ],
   "source": [
    "df2"
   ]
  },
  {
   "cell_type": "code",
   "execution_count": 64,
   "id": "a91f4212",
   "metadata": {},
   "outputs": [
    {
     "data": {
      "image/png": "[encoded data removed]",
      "text/plain": [
       "<Figure size 720x432 with 1 Axes>"
      ]
     },
     "metadata": {},
     "output_type": "display_data"
    }
   ],
   "source": [
    "pie, ax = plt.subplots(figsize = [10,6])\n",
    "labels = df2['Type']\n",
    "plt.pie(x=df2['Count'], autopct=\"%.1f%%\", explode=[0.05]*6, labels=labels, pctdistance=0.5)\n",
    "plt.title(\"Movies by type\", fontsize=14);"
   ]
  },
  {
   "cell_type": "markdown",
   "id": "0485de99",
   "metadata": {},
   "source": [
    "The pie chart shows that, Netflix has most of the movies under the section International Movies, followed by Dramas and Comedies."
   ]
  },
  {
   "cell_type": "markdown",
   "id": "ee09dab2",
   "metadata": {},
   "source": [
    "### Conclusion"
   ]
  },
  {
   "cell_type": "markdown",
   "id": "25da7dc6",
   "metadata": {},
   "source": [
    "We can see how a dataset of Netflix movies and tv shows can be presented in different ways to display as much insights as possible. The first thing is to ask questions about the data, and then move forward with how to get the answer through visualization techniques."
   ]
  }
 ],
 "metadata": {
  "kernelspec": {
   "display_name": "Python 3",
   "language": "python",
   "name": "python3"
  },
  "language_info": {
   "codemirror_mode": {
    "name": "ipython",
    "version": 3
   },
   "file_extension": ".py",
   "mimetype": "text/x-python",
   "name": "python",
   "nbconvert_exporter": "python",
   "pygments_lexer": "ipython3",
   "version": "3.8.8"
  }
 },
 "nbformat": 4,
 "nbformat_minor": 5
}
